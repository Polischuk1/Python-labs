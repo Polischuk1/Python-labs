{
 "cells": [
  {
   "cell_type": "code",
   "execution_count": 5,
   "metadata": {},
   "outputs": [],
   "source": [
    "from faker import Faker\n",
    "import pandas as pd\n",
    "import numpy as np\n",
    "import random\n",
    "fake = Faker(locale='uk_UA') \n"
   ]
  },
  {
   "cell_type": "code",
   "execution_count": 10,
   "metadata": {},
   "outputs": [
    {
     "name": "stdout",
     "output_type": "stream",
     "text": [
      "{'first name': 'Нестор', 'last name': 'Оробець', \"Father's name\": 'Григорівна', 'Gender': np.str_('F'), 'Birthday': datetime.date(1957, 12, 7)}\n",
      "{'first name': 'Гліб', 'last name': 'Конопленко', \"Father's name\": 'Михайлович', 'Gender': np.str_('M'), 'Birthday': datetime.date(1914, 7, 31)}\n",
      "{'first name': 'Аркадій', 'last name': 'Шовкопляс', \"Father's name\": 'Володимирівна', 'Gender': np.str_('F'), 'Birthday': datetime.date(1975, 8, 9)}\n",
      "{'first name': 'Орися', 'last name': 'Данчук', \"Father's name\": 'Євгенович', 'Gender': np.str_('M'), 'Birthday': datetime.date(1949, 9, 29)}\n",
      "{'first name': 'Геннадій', 'last name': 'Рябченко', \"Father's name\": 'Олексійович', 'Gender': np.str_('M'), 'Birthday': datetime.date(2021, 8, 24)}\n"
     ]
    }
   ],
   "source": [
    "female_patronymics = [\n",
    "        \"Іванівна\", \"Олександрівна\", \"Михайлівна\", \"Василівна\", \"Сергіївна\",\n",
    "        \"Петрівна\", \"Андріївна\", \"Юріївна\", \"Дмитрівна\", \"Олегівна\",\n",
    "        \"Богданівна\", \"Миколаївна\", \"Григорівна\", \"Олексіївна\", \"Володимирівна\",\n",
    "        \"Артемівна\", \"Євгенівна\", \"Вікторівна\", \"Ігорівна\", \"Степанівна\"\n",
    "    ]\n",
    "\n",
    "male_patronymics = [\n",
    "        \"Іванович\", \"Олександрович\", \"Михайлович\", \"Васильович\", \"Сергійович\",\n",
    "        \"Петрович\", \"Андрійович\", \"Юрійович\", \"Дмитрович\", \"Олегович\",\n",
    "        \"Богданович\", \"Миколайович\", \"Григорович\", \"Олексійович\", \"Володимирович\",\n",
    "        \"Артемович\", \"Євгенович\", \"Вікторович\", \"Ігорович\", \"Степанович\"\n",
    "    ]\n",
    "\n",
    "\n",
    "\n",
    "num_empl = 200\n",
    "\n",
    "employees = []\n",
    "\n",
    "for _ in range(num_empl):\n",
    "    gender = np.random.choice([\"M\" = male_patronymics, \"F\" = female_patronymics])\n",
    "    employee = {\n",
    "        'first name':fake.first_name(),\n",
    "        'last name':fake.last_name() ,\n",
    "        \"Father's name\":random.choice(male_patronymics) if gender == 'M' else random.choice(female_patronymics),\n",
    "        'Gender':gender,\n",
    "        'Birthday':fake.date_of_birth()\n",
    "        }\n",
    "    employees.append(employee)\n",
    "\n",
    "for emp in employees[:5]:\n",
    "    print(emp)\n"
   ]
  },
  {
   "cell_type": "code",
   "execution_count": 41,
   "metadata": {},
   "outputs": [
    {
     "name": "stdout",
     "output_type": "stream",
     "text": [
      "     Ім'я    Прізвище По-батькові Стать Дата народження   Посада  \\\n",
      "0   Роман       Малик  Вікторович     Ч      1960-03-19  Manager   \n",
      "1  Едуард      Карась  Степанович     Ч      1965-04-15       HR   \n",
      "2   Ігнат       Тесля  Михайлівна     Ж      1938-07-29  Manager   \n",
      "3  Степан  Конопленко  Григорович     Ч      1958-04-12  Analyst   \n",
      "4   Назар      Ковпак   Артемівна     Ж      1943-11-01  Analyst   \n",
      "\n",
      "             Місто            Телефон                      Email  \n",
      "0  місто Мирноград      023 558-39-41  ishchakokhrim@example.org  \n",
      "1     село Лохвиця          782 01 49      iustyna89@example.com  \n",
      "2       село Хирів  +380 82 639 26 76  anitahaidenko@example.com  \n",
      "3    хутір Рогатин  +380 70 588 73 72       gishchak@example.org  \n",
      "4  хутір Українськ          969 76 98     martynusyk@example.org  \n"
     ]
    }
   ],
   "source": [
    "from faker import Faker\n",
    "import pandas as pd\n",
    "import numpy as np\n",
    "from datetime import date\n",
    "import random\n",
    "\n",
    "fake = Faker(locale='uk_UA') \n",
    "\n",
    "female_patronymics = [\n",
    "    \"Іванівна\", \"Олександрівна\", \"Михайлівна\", \"Василівна\", \"Сергіївна\",\n",
    "    \"Петрівна\", \"Андріївна\", \"Юріївна\", \"Дмитрівна\", \"Олегівна\",\n",
    "    \"Богданівна\", \"Миколаївна\", \"Григорівна\", \"Олексіївна\", \"Володимирівна\",\n",
    "    \"Артемівна\", \"Євгенівна\", \"Вікторівна\", \"Ігорівна\", \"Степанівна\"\n",
    "]\n",
    "\n",
    "male_patronymics = [\n",
    "    \"Іванович\", \"Олександрович\", \"Михайлович\", \"Васильович\", \"Сергійович\",\n",
    "    \"Петрович\", \"Андрійович\", \"Юрійович\", \"Дмитрович\", \"Олегович\",\n",
    "    \"Богданович\", \"Миколайович\", \"Григорович\", \"Олексійович\", \"Володимирович\",\n",
    "    \"Артемович\", \"Євгенович\", \"Вікторович\", \"Ігорович\", \"Степанович\"\n",
    "]\n",
    "\n",
    "num_empl = 5\n",
    "employee_list = []\n",
    "\n",
    "for _ in range(num_empl):\n",
    "    employee = {}\n",
    "    gender = np.random.choice([\"Ч\", \"Ж\"])\n",
    "    \n",
    "    # Select patronymic based on gender\n",
    "    patronymic = random.choice(male_patronymics) if gender == 'Ч' else random.choice(female_patronymics)\n",
    "    \n",
    "    employee[\"Ім'я\"] = fake.first_name()  \n",
    "    employee['Прізвище'] = fake.last_name()  \n",
    "    employee[\"По-батькові\"] = patronymic  \n",
    "    employee['Стать'] = gender\n",
    "    employee['Дата народження'] = fake.date_between_dates(date_start=date(1938, 1, 1), date_end=date(2008, 12, 31))  \n",
    "    employee['Посада'] = fake.random_element(elements=('Manager', 'Developer', 'Analyst', 'HR')) \n",
    "    employee['Місто'] = fake.city() \n",
    "    employee['Телефон'] = fake.phone_number() \n",
    "    employee['Email'] = fake.email() \n",
    "\n",
    "    employee_list.append(employee)\n",
    "\n",
    "# Create DataFrame\n",
    "df = pd.DataFrame(employee_list)\n",
    "\n",
    "print(df)\n",
    "\n"
   ]
  }
 ],
 "metadata": {
  "kernelspec": {
   "display_name": "Polishchuk_Olha",
   "language": "python",
   "name": "python3"
  },
  "language_info": {
   "codemirror_mode": {
    "name": "ipython",
    "version": 3
   },
   "file_extension": ".py",
   "mimetype": "text/x-python",
   "name": "python",
   "nbconvert_exporter": "python",
   "pygments_lexer": "ipython3",
   "version": "3.10.11"
  }
 },
 "nbformat": 4,
 "nbformat_minor": 2
}
